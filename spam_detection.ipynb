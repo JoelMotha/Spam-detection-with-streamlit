{
 "cells": [
  {
   "cell_type": "code",
   "execution_count": 1,
   "id": "19e15627",
   "metadata": {},
   "outputs": [
    {
     "name": "stdout",
     "output_type": "stream",
     "text": [
      "Dataset shape: (5572, 2)\n",
      "  label                                               text\n",
      "0   ham  Go until jurong point, crazy.. Available only ...\n",
      "1   ham                      Ok lar... Joking wif u oni...\n",
      "2  spam  Free entry in 2 a wkly comp to win FA Cup fina...\n",
      "3   ham  U dun say so early hor... U c already then say...\n",
      "4   ham  Nah I don't think he goes to usf, he lives aro...\n"
     ]
    }
   ],
   "source": [
    "import pandas as pd\n",
    "\n",
    "# Load the dataset\n",
    "df = pd.read_csv(\"spam.csv\", encoding='latin-1')\n",
    "\n",
    "# Drop unnecessary columns and rename\n",
    "df = df[['v1', 'v2']]\n",
    "df.columns = ['label', 'text']\n",
    "\n",
    "# Check the shape and preview\n",
    "print(\"Dataset shape:\", df.shape)\n",
    "print(df.head())\n"
   ]
  },
  {
   "cell_type": "code",
   "execution_count": 2,
   "id": "03b565c4",
   "metadata": {},
   "outputs": [
    {
     "name": "stderr",
     "output_type": "stream",
     "text": [
      "[nltk_data] Downloading package stopwords to\n",
      "[nltk_data]     C:\\Users\\Joel\\AppData\\Roaming\\nltk_data...\n",
      "[nltk_data]   Package stopwords is already up-to-date!\n"
     ]
    },
    {
     "name": "stdout",
     "output_type": "stream",
     "text": [
      "                                                text  \\\n",
      "0  Go until jurong point, crazy.. Available only ...   \n",
      "1                      Ok lar... Joking wif u oni...   \n",
      "2  Free entry in 2 a wkly comp to win FA Cup fina...   \n",
      "3  U dun say so early hor... U c already then say...   \n",
      "4  Nah I don't think he goes to usf, he lives aro...   \n",
      "\n",
      "                                          clean_text  \n",
      "0  go jurong point crazi avail bugi n great world...  \n",
      "1                              ok lar joke wif u oni  \n",
      "2  free entri 2 wkli comp win fa cup final tkt 21...  \n",
      "3                u dun say earli hor u c alreadi say  \n",
      "4          nah dont think goe usf live around though  \n"
     ]
    }
   ],
   "source": [
    "import nltk\n",
    "import string\n",
    "from nltk.corpus import stopwords\n",
    "from nltk.stem.porter import PorterStemmer\n",
    "\n",
    "# Download NLTK assets\n",
    "nltk.download('stopwords')\n",
    "\n",
    "# Set up tools\n",
    "stop_words = set(stopwords.words('english'))\n",
    "stemmer = PorterStemmer()\n",
    "\n",
    "def clean_text(text):\n",
    "    # Lowercase\n",
    "    text = text.lower()\n",
    "    # Remove punctuation\n",
    "    text = ''.join([char for char in text if char not in string.punctuation])\n",
    "    # Tokenize and remove stopwords\n",
    "    words = text.split()\n",
    "    words = [stemmer.stem(word) for word in words if word not in stop_words]\n",
    "    return ' '.join(words)\n",
    "\n",
    "# Apply to text column\n",
    "df['clean_text'] = df['text'].apply(clean_text)\n",
    "\n",
    "print(df[['text', 'clean_text']].head())\n"
   ]
  },
  {
   "cell_type": "code",
   "execution_count": 3,
   "id": "46956c07",
   "metadata": {},
   "outputs": [
    {
     "name": "stdout",
     "output_type": "stream",
     "text": [
      "Feature matrix shape: (5572, 3000)\n"
     ]
    }
   ],
   "source": [
    "from sklearn.feature_extraction.text import TfidfVectorizer\n",
    "\n",
    "# Initialize the vectorizer\n",
    "vectorizer = TfidfVectorizer(max_features=3000)\n",
    "\n",
    "# Transform the cleaned text\n",
    "X = vectorizer.fit_transform(df['clean_text']).toarray()\n",
    "\n",
    "# Convert labels to binary\n",
    "y = df['label'].map({'ham': 0, 'spam': 1}).values\n",
    "\n",
    "print(\"Feature matrix shape:\", X.shape)\n"
   ]
  },
  {
   "cell_type": "code",
   "execution_count": 4,
   "id": "a3ddac6f",
   "metadata": {},
   "outputs": [
    {
     "name": "stdout",
     "output_type": "stream",
     "text": [
      "Accuracy: 0.97847533632287\n",
      "\n",
      "Classification Report:\n",
      "               precision    recall  f1-score   support\n",
      "\n",
      "           0       0.98      1.00      0.99       965\n",
      "           1       1.00      0.84      0.91       150\n",
      "\n",
      "    accuracy                           0.98      1115\n",
      "   macro avg       0.99      0.92      0.95      1115\n",
      "weighted avg       0.98      0.98      0.98      1115\n",
      "\n",
      "\n",
      "Confusion Matrix:\n",
      " [[965   0]\n",
      " [ 24 126]]\n"
     ]
    }
   ],
   "source": [
    "from sklearn.model_selection import train_test_split\n",
    "from sklearn.naive_bayes import MultinomialNB\n",
    "from sklearn.metrics import accuracy_score, classification_report, confusion_matrix\n",
    "\n",
    "# Split the dataset\n",
    "X_train, X_test, y_train, y_test = train_test_split(X, y, test_size=0.2, random_state=42)\n",
    "\n",
    "# Train the Naive Bayes model\n",
    "model = MultinomialNB()\n",
    "model.fit(X_train, y_train)\n",
    "\n",
    "# Predict on test set\n",
    "y_pred = model.predict(X_test)\n",
    "\n",
    "# Evaluation\n",
    "print(\"Accuracy:\", accuracy_score(y_test, y_pred))\n",
    "print(\"\\nClassification Report:\\n\", classification_report(y_test, y_pred))\n",
    "print(\"\\nConfusion Matrix:\\n\", confusion_matrix(y_test, y_pred))\n"
   ]
  },
  {
   "cell_type": "code",
   "execution_count": 5,
   "id": "7ab08833",
   "metadata": {},
   "outputs": [
    {
     "name": "stdout",
     "output_type": "stream",
     "text": [
      "Spam\n",
      "Ham\n"
     ]
    }
   ],
   "source": [
    "def predict_message(msg):\n",
    "    # Clean the input\n",
    "    cleaned = clean_text(msg)\n",
    "    # Vectorize\n",
    "    vectorized = vectorizer.transform([cleaned]).toarray()\n",
    "    # Predict\n",
    "    prediction = model.predict(vectorized)[0]\n",
    "    label = \"Spam\" if prediction == 1 else \"Ham\"\n",
    "    return label\n",
    "\n",
    "# Test it\n",
    "print(predict_message(\"Congratulations! You won a free iPhone. Click here to claim.\"))\n",
    "print(predict_message(\"Hey, are we still on for lunch today?\"))\n"
   ]
  },
  {
   "cell_type": "code",
   "execution_count": 9,
   "id": "63cb35be",
   "metadata": {},
   "outputs": [
    {
     "name": "stdout",
     "output_type": "stream",
     "text": [
      "Message: Hey, are you coming to the meeting tomorrow?                 | Expected: 0 | Predicted: 0 | ✅ Correct\n",
      "Message: Your OTP for login is 928374                                 | Expected: 0 | Predicted: 0 | ✅ Correct\n",
      "Message: Congratulations! You’ve been selected for a $1000 Walmart gi | Expected: 1 | Predicted: 1 | ✅ Correct\n",
      "Message: Can we reschedule our call to next week?                     | Expected: 0 | Predicted: 0 | ✅ Correct\n",
      "Message: Claim your free vacation now by clicking this link!          | Expected: 1 | Predicted: 1 | ✅ Correct\n",
      "Message: Don't forget to bring your ID for the interview.             | Expected: 0 | Predicted: 0 | ✅ Correct\n",
      "Message: URGENT! You have won a lottery. Text WIN to 90999 now!       | Expected: 1 | Predicted: 1 | ✅ Correct\n",
      "Message: Dinner at 7 pm? Let me know.                                 | Expected: 0 | Predicted: 0 | ✅ Correct\n",
      "Message: This is not spam. We’re just checking your eligibility for i | Expected: 1 | Predicted: 0 | ❌ Wrong\n",
      "Message: Free entry in 2 a weekly competition to win an iPhone. Just  | Expected: 1 | Predicted: 1 | ✅ Correct\n",
      "Message: Did you finish the assignment due today?                     | Expected: 0 | Predicted: 0 | ✅ Correct\n",
      "Message: You've been pre-approved for a credit card. Apply now!       | Expected: 1 | Predicted: 1 | ✅ Correct\n",
      "Message: Let’s go hiking this weekend!                                | Expected: 0 | Predicted: 0 | ✅ Correct\n",
      "Message: Earn $500 a day working from home. No experience needed.     | Expected: 1 | Predicted: 0 | ❌ Wrong\n",
      "Message: Hey, I’ll be late. Stuck in traffic.                         | Expected: 0 | Predicted: 0 | ✅ Correct\n",
      "Message: Your parcel has been dispatched. Track it here.              | Expected: 0 | Predicted: 0 | ✅ Correct\n",
      "Message: Get cheap meds online without prescription. Visit now!       | Expected: 1 | Predicted: 0 | ❌ Wrong\n",
      "Message: See you at the game tonight!                                 | Expected: 0 | Predicted: 0 | ✅ Correct\n",
      "Message: Winner! You’ve been selected for a $500 Amazon voucher.      | Expected: 1 | Predicted: 1 | ✅ Correct\n",
      "Message: I left your jacket at the office. Grab it tomorrow.          | Expected: 0 | Predicted: 0 | ✅ Correct\n",
      "Message: You’re a winner. Psych! Just kidding, it’s me.               | Expected: 0 | Predicted: 0 | ✅ Correct\n",
      "Message: Free coffee if you buy five this month. Terms apply.         | Expected: 0 | Predicted: 0 | ✅ Correct\n",
      "Message: This is a business opportunity but not a scam.               | Expected: 1 | Predicted: 0 | ❌ Wrong\n",
      "Message: Yo! I found a crazy way to earn extra cash (not a joke).     | Expected: 1 | Predicted: 0 | ❌ Wrong\n",
      "Message: Meeting got moved. Also, check out this crypto project!      | Expected: 1 | Predicted: 0 | ❌ Wrong\n",
      "Message: Hey! Click this link... just memes, nothing shady lol.       | Expected: 1 | Predicted: 0 | ❌ Wrong\n",
      "Message: Not spam. You’ve actually won something (probably).          | Expected: 1 | Predicted: 0 | ❌ Wrong\n",
      "Message: Forward this to 5 people and good luck will follow 🍀         | Expected: 1 | Predicted: 0 | ❌ Wrong\n",
      "Message: Get paid to read emails! Just kidding... unless?             | Expected: 1 | Predicted: 0 | ❌ Wrong\n",
      "Message: Your phone number was used in a recent transaction. Was this | Expected: 0 | Predicted: 0 | ✅ Correct\n"
     ]
    }
   ],
   "source": [
    "# Label mapping: 1 = Spam, 0 = Ham\n",
    "test_cases_normal = [\n",
    "    (\"Hey, are you coming to the meeting tomorrow?\", 0),\n",
    "    (\"Your OTP for login is 928374\", 0),\n",
    "    (\"Congratulations! You’ve been selected for a $1000 Walmart gift card.\", 1),\n",
    "    (\"Can we reschedule our call to next week?\", 0),\n",
    "    (\"Claim your free vacation now by clicking this link!\", 1),\n",
    "    (\"Don't forget to bring your ID for the interview.\", 0),\n",
    "    (\"URGENT! You have won a lottery. Text WIN to 90999 now!\", 1),\n",
    "    (\"Dinner at 7 pm? Let me know.\", 0),\n",
    "    (\"This is not spam. We’re just checking your eligibility for insurance.\", 1),\n",
    "    (\"Free entry in 2 a weekly competition to win an iPhone. Just text WIN!\", 1),\n",
    "    (\"Did you finish the assignment due today?\", 0),\n",
    "    (\"You've been pre-approved for a credit card. Apply now!\", 1),\n",
    "    (\"Let’s go hiking this weekend!\", 0),\n",
    "    (\"Earn $500 a day working from home. No experience needed.\", 1),\n",
    "    (\"Hey, I’ll be late. Stuck in traffic.\", 0),\n",
    "    (\"Your parcel has been dispatched. Track it here.\", 0),\n",
    "    (\"Get cheap meds online without prescription. Visit now!\", 1),\n",
    "    (\"See you at the game tonight!\", 0),\n",
    "    (\"Winner! You’ve been selected for a $500 Amazon voucher.\", 1),\n",
    "    (\"I left your jacket at the office. Grab it tomorrow.\", 0),\n",
    "]\n",
    "\n",
    "test_cases_tricky = [\n",
    "    (\"You’re a winner. Psych! Just kidding, it’s me.\", 0),\n",
    "    (\"Free coffee if you buy five this month. Terms apply.\", 0),\n",
    "    (\"This is a business opportunity but not a scam.\", 1),\n",
    "    (\"Yo! I found a crazy way to earn extra cash (not a joke).\", 1),\n",
    "    (\"Meeting got moved. Also, check out this crypto project!\", 1),\n",
    "    (\"Hey! Click this link... just memes, nothing shady lol.\", 1),\n",
    "    (\"Not spam. You’ve actually won something (probably).\", 1),\n",
    "    (\"Forward this to 5 people and good luck will follow 🍀\", 1),\n",
    "    (\"Get paid to read emails! Just kidding... unless?\", 1),\n",
    "    (\"Your phone number was used in a recent transaction. Was this you?\", 0)\n",
    "]\n",
    "\n",
    "# Combine all test cases\n",
    "all_tests = test_cases_normal + test_cases_tricky\n",
    "\n",
    "# Predict and compare\n",
    "for msg, expected in all_tests:\n",
    "    predicted = 1 if predict_message(msg) == \"Spam\" else 0\n",
    "    label = \"✅ Correct\" if predicted == expected else \"❌ Wrong\"\n",
    "    print(f\"Message: {msg[:60]:<60} | Expected: {expected} | Predicted: {predicted} | {label}\")\n"
   ]
  },
  {
   "cell_type": "code",
   "execution_count": 32,
   "id": "0d00b62a",
   "metadata": {},
   "outputs": [
    {
     "name": "stdout",
     "output_type": "stream",
     "text": [
      "Saved model and vectorizer successfully.\n"
     ]
    }
   ],
   "source": [
    "import pickle\n",
    "\n",
    "# Assuming your trained model and vectorizer are named `model` and `vectorizer`\n",
    "with open(\"spam_model.pkl\", \"wb\") as f:\n",
    "    pickle.dump(model, f)\n",
    "\n",
    "with open(\"vectorizer.pkl\", \"wb\") as f:\n",
    "    pickle.dump(vectorizer, f)\n",
    "\n",
    "print(\"Saved model and vectorizer successfully.\")\n"
   ]
  },
  {
   "cell_type": "code",
   "execution_count": null,
   "id": "ce917a02",
   "metadata": {},
   "outputs": [],
   "source": []
  }
 ],
 "metadata": {
  "kernelspec": {
   "display_name": "base",
   "language": "python",
   "name": "python3"
  },
  "language_info": {
   "codemirror_mode": {
    "name": "ipython",
    "version": 3
   },
   "file_extension": ".py",
   "mimetype": "text/x-python",
   "name": "python",
   "nbconvert_exporter": "python",
   "pygments_lexer": "ipython3",
   "version": "3.12.7"
  }
 },
 "nbformat": 4,
 "nbformat_minor": 5
}
